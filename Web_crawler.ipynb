{
  "nbformat": 4,
  "nbformat_minor": 0,
  "metadata": {
    "colab": {
      "provenance": [],
      "authorship_tag": "ABX9TyM6JYiW39WYnSQiT9y1J8EA",
      "include_colab_link": true
    },
    "kernelspec": {
      "name": "python3",
      "display_name": "Python 3"
    },
    "language_info": {
      "name": "python"
    }
  },
  "cells": [
    {
      "cell_type": "markdown",
      "metadata": {
        "id": "view-in-github",
        "colab_type": "text"
      },
      "source": [
        "<a href=\"https://colab.research.google.com/github/CanariosHernandezArturoManuel/Tarea/blob/main/Web_crawler.ipynb\" target=\"_parent\"><img src=\"https://colab.research.google.com/assets/colab-badge.svg\" alt=\"Open In Colab\"/></a>"
      ]
    },
    {
      "cell_type": "code",
      "source": [
        "import requests\n",
        "from bs4 import BeautifulSoup\n",
        "import csv\n",
        "\n",
        "def crawl_website(url, max_depth=2, max_urls=10, output_file='crawled_data.csv'):\n",
        "    visited_urls = set()\n",
        "    urls_to_visit = [(url, 0)]\n",
        "    total_visited = 0\n",
        "\n",
        "    with open(output_file, mode='w', newline='', encoding='utf-8') as file:\n",
        "        writer = csv.writer(file)\n",
        "        writer.writerow(['URL', 'Title'])\n",
        "\n",
        "        while urls_to_visit and total_visited < max_urls:\n",
        "            current_url, depth = urls_to_visit.pop(0)\n",
        "\n",
        "            if depth > max_depth or current_url in visited_urls:\n",
        "                continue\n",
        "\n",
        "            visited_urls.add(current_url)\n",
        "            total_visited += 1\n",
        "            print(f\"Visiting ({total_visited}/{max_urls}): {current_url}\")\n",
        "\n",
        "            try:\n",
        "                response = requests.get(current_url)\n",
        "                response.raise_for_status()\n",
        "\n",
        "                soup = BeautifulSoup(response.content, \"html.parser\")\n",
        "\n",
        "                title = soup.title.string if soup.title else \"No title found\"\n",
        "                print(f\"Title: {title}\")\n",
        "\n",
        "                writer.writerow([current_url, title])\n",
        "\n",
        "                if total_visited < max_urls:\n",
        "                    for link in soup.find_all(\"a\", href=True):\n",
        "                        absolute_url = link[\"href\"]\n",
        "                        if absolute_url.startswith(\"http\"):\n",
        "                            urls_to_visit.append((absolute_url, depth + 1))\n",
        "\n",
        "            except requests.exceptions.RequestException as e:\n",
        "                print(f\"Error accessing {current_url}: {e}\")\n",
        "            except Exception as e:\n",
        "                print(f\"An error occurred: {e}\")\n",
        "\n",
        "if __name__ == \"__main__\":\n",
        "    !pip install requests beautifulsoup4\n",
        "\n",
        "    target_url = \"https://www.medyblog.com/es/post/sinusitis-en-el-cerebro\"\n",
        "    crawl_website(target_url, max_depth=2, max_urls=10, output_file='crawled_data.csv')\n",
        "\n",
        "    print(\"Crawling completed. The results are saved in 'crawled_data.csv'.\")"
      ],
      "metadata": {
        "colab": {
          "base_uri": "https://localhost:8080/"
        },
        "id": "thAOX357bOoT",
        "outputId": "99164e64-487c-481a-ba0b-f09408bc99d1"
      },
      "execution_count": 23,
      "outputs": [
        {
          "output_type": "stream",
          "name": "stdout",
          "text": [
            "Requirement already satisfied: requests in /usr/local/lib/python3.10/dist-packages (2.32.3)\n",
            "Requirement already satisfied: beautifulsoup4 in /usr/local/lib/python3.10/dist-packages (4.12.3)\n",
            "Requirement already satisfied: charset-normalizer<4,>=2 in /usr/local/lib/python3.10/dist-packages (from requests) (3.4.0)\n",
            "Requirement already satisfied: idna<4,>=2.5 in /usr/local/lib/python3.10/dist-packages (from requests) (3.10)\n",
            "Requirement already satisfied: urllib3<3,>=1.21.1 in /usr/local/lib/python3.10/dist-packages (from requests) (2.2.3)\n",
            "Requirement already satisfied: certifi>=2017.4.17 in /usr/local/lib/python3.10/dist-packages (from requests) (2024.8.30)\n",
            "Requirement already satisfied: soupsieve>1.2 in /usr/local/lib/python3.10/dist-packages (from beautifulsoup4) (2.6)\n",
            "Visiting (1/10): https://www.medyblog.com/es/post/sinusitis-en-el-cerebro\n",
            "Title: Sinusitis en el Cerebro\n",
            "Visiting (2/10): https://www.medyblog.com/es\n",
            "Title: MedyBlog | Blogs médicos por médicos\n",
            "Visiting (3/10): https://www.medyblog.com/es/blogs-list\n",
            "Title: Blogs | Blogs médicos de MedyBlog\n",
            "Visiting (4/10): https://www.medyblog.com/es/ear\n",
            "Title: Blogs en el oído | MedyBlog\n",
            "Visiting (5/10): https://www.medyblog.com/es/sinusitis\n",
            "Title: SINUSITIS | MedyBlog\n",
            "Visiting (6/10): https://www.medyblog.com/es/covid-19\n",
            "Title: COVID-19: MedyBlog\n",
            "Visiting (7/10): https://www.medyblog.com/es/explore-medical-blogs-by-medyblog\n",
            "Title: Explore los blogs médicos de Medyblog\n",
            "Visiting (8/10): https://www.medyblog.com/es/doctors-recommendations-of-medical-blogs-by-medyblog\n",
            "Title: RECOMENDACIONES | MedyBlog\n",
            "Visiting (9/10): https://www.medyblog.com/es/dr-koralla-raja-meghanath\n",
            "Title: Dra. Koralla Raja Meghanadh | MedyBlog\n",
            "Visiting (10/10): https://www.medyblog.com/es/dr-k-r-meghanadh-s-news-paper-article\n",
            "Title: Artículos del periódico | Medy Blog\n",
            "Crawling completed. The results are saved in 'crawled_data.csv'.\n"
          ]
        }
      ]
    }
  ]
}